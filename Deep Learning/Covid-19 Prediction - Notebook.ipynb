{
  "nbformat": 4,
  "nbformat_minor": 0,
  "metadata": {
    "colab": {
      "name": " COVID-19-Risk-Prediction.ipynb",
      "provenance": [],
      "collapsed_sections": [
        "WIetgqJ4rUIl",
        "shJklNtiSaAj",
        "w5501eS45wUu",
        "nfxnzZNW1p0e"
      ],
      "toc_visible": true
    },
    "kernelspec": {
      "display_name": "Python 3",
      "name": "python3"
    }
  },
  "cells": [
    {
      "cell_type": "markdown",
      "metadata": {
        "id": "_g7k4T4cG0Gx"
      },
      "source": [
        "# ***Setting up envirement***\r\n"
      ]
    },
    {
      "cell_type": "code",
      "metadata": {
        "id": "rbZhMIh9Hnqg"
      },
      "source": [
        "!pip install pandas\r\n",
        "!pip install tensorflow==1.15"
      ],
      "execution_count": null,
      "outputs": []
    },
    {
      "cell_type": "code",
      "metadata": {
        "id": "lOIOSl9CEKDO"
      },
      "source": [
        "import numpy as np\r\n",
        "import pandas as pd\r\n",
        "import tensorflow.compat.v1 as tf\r\n",
        "tf.disable_v2_behavior()\r\n",
        "from sklearn.model_selection import train_test_split\r\n",
        "from matplotlib import pyplot as plt"
      ],
      "execution_count": null,
      "outputs": []
    },
    {
      "cell_type": "code",
      "metadata": {
        "id": "_KICXJa0K25w"
      },
      "source": [
        "# Read database and print shape\r\n",
        "pd.set_option('display.max_columns', None)\r\n",
        "covid = pd.read_csv(\"https://raw.githubusercontent.com/netanelin/COVID-19-Risk-Prediction/main/covid.csv\", \r\n",
        "                    encoding = \"ISO-8859-1\", low_memory = False)\r\n",
        "print(covid.shape)\r\n",
        "covid.head()"
      ],
      "execution_count": null,
      "outputs": []
    },
    {
      "cell_type": "markdown",
      "metadata": {
        "id": "9BMo7z7AqVm3"
      },
      "source": [
        "---\r\n",
        "# ***Process and clean data***"
      ]
    },
    {
      "cell_type": "code",
      "metadata": {
        "colab": {
          "base_uri": "https://localhost:8080/"
        },
        "id": "jnkJdQOg8WGW",
        "outputId": "2b82686a-3798-4138-da5d-ffb1ce69fb3a"
      },
      "source": [
        "# Cleaning the data to keep only the rows containing 1, 2. values as 97 and 99 are essentialling missing data\r\n",
        "\r\n",
        "covid = covid.loc[(covid.covid_res == 1)]\r\n",
        "covid = covid.loc[(covid.sex == 1) | (covid.sex == 2)]\r\n",
        "covid = covid.loc[(covid.pneumonia == 1) | (covid.pneumonia == 2)]\r\n",
        "covid = covid.loc[(covid.diabetes == 1) | (covid.diabetes == 2)]\r\n",
        "covid = covid.loc[(covid.copd == 1) | (covid.copd == 2)]\r\n",
        "covid = covid.loc[(covid.asthma == 1) | (covid.asthma == 2)]\r\n",
        "covid = covid.loc[(covid.inmsupr == 1) | (covid.inmsupr == 2)]\r\n",
        "covid = covid.loc[(covid.hypertension == 1) | (covid.hypertension == 2)]\r\n",
        "covid = covid.loc[(covid.other_disease == 1) | (covid.other_disease == 2)]\r\n",
        "covid = covid.loc[(covid.cardiovascular == 1) | (covid.cardiovascular == 2)]\r\n",
        "covid = covid.loc[(covid.obesity == 1) | (covid.obesity == 2)]\r\n",
        "covid = covid.loc[(covid.renal_chronic == 1) | (covid.renal_chronic == 2)]\r\n",
        "covid = covid.loc[(covid.tobacco == 1) | (covid.tobacco == 2)]\r\n",
        "covid.shape"
      ],
      "execution_count": null,
      "outputs": [
        {
          "output_type": "execute_result",
          "data": {
            "text/plain": [
              "(218902, 23)"
            ]
          },
          "metadata": {
            "tags": []
          },
          "execution_count": 4
        }
      ]
    },
    {
      "cell_type": "code",
      "metadata": {
        "id": "pF2PtHEC79OF"
      },
      "source": [
        "# Modifying data to get it converted to One Hot Encoded data\r\n",
        "\r\n",
        "covid.sex = covid.sex.apply(lambda x: 0 if x == 1 else 1)                       # female = 0, male = 1\r\n",
        "covid.patient_type = covid.patient_type.apply(lambda x: x if x == 1 else 0)     # no = 0, yes = 1\r\n",
        "covid.pneumonia = covid.pneumonia.apply(lambda x: x if x == 1 else 0)           \r\n",
        "covid.diabetes = covid.diabetes.apply(lambda x: x if x == 1 else 0)             \r\n",
        "covid.copd = covid.copd.apply(lambda x: x if x == 1 else 0)                     \r\n",
        "covid.asthma = covid.asthma.apply(lambda x: x if x == 1 else 0)                 \r\n",
        "covid.inmsupr = covid.inmsupr.apply(lambda x: x if x == 1 else 0)               \r\n",
        "covid.hypertension = covid.hypertension.apply(lambda x: x if x == 1 else 0)     \r\n",
        "covid.other_disease = covid.other_disease.apply(lambda x: x if x == 1 else -0)  \r\n",
        "covid.cardiovascular = covid.cardiovascular.apply(lambda x: x if x == 1 else 0) \r\n",
        "covid.obesity = covid.obesity.apply(lambda x: x if x == 1 else 0)               \r\n",
        "covid.renal_chronic = covid.renal_chronic.apply(lambda x: x if x == 1 else 0)   \r\n",
        "covid.tobacco = covid.tobacco.apply(lambda x: x if x == 1 else 0)               \r\n",
        "covid.date_died = covid.date_died.apply(lambda x: 0 if x == \"9999-99-99\" else 1)\r\n",
        "covid.pregnancy = covid.pregnancy.apply(lambda x: x if x == 1 else 0)           \r\n",
        "covid.intubed = covid.intubed.apply(lambda x: x if x == 1 else 0)                   \r\n",
        "covid.icu = covid.icu.apply(lambda x: x if x == 1 else 0)  "
      ],
      "execution_count": null,
      "outputs": []
    },
    {
      "cell_type": "code",
      "metadata": {
        "id": "0KjfHYUq6y3B",
        "colab": {
          "base_uri": "https://localhost:8080/"
        },
        "outputId": "8b941ca7-6d65-49cb-86f7-3ef7d5fb4c7a"
      },
      "source": [
        "# Divide age column to 12 age groups\r\n",
        "for i in range(1,13):\r\n",
        "  covid['age_group_%d' %i] = covid['age']\r\n",
        "  covid['age_group_%d' %i]  = covid['age_group_%d' %i].apply(lambda x: 1 if (x>=(i-1)*10 and x<i*10) else 0) \r\n",
        "\r\n",
        "# Creating the label column from summing three columns of the data. \r\n",
        "# This column represents whether the patient is at risk from covid.\r\n",
        "covid = covid.rename(columns={\"date_died\": \"died\"})\r\n",
        "covid['at_risk'] = covid['died']+covid['intubed']+covid['icu']\r\n",
        "covid.at_risk = covid.at_risk.apply(lambda x: 1 if x > 0 else 0) \r\n",
        "covid.shape"
      ],
      "execution_count": null,
      "outputs": [
        {
          "output_type": "execute_result",
          "data": {
            "text/plain": [
              "(218902, 36)"
            ]
          },
          "metadata": {
            "tags": []
          },
          "execution_count": 6
        }
      ]
    },
    {
      "cell_type": "code",
      "metadata": {
        "id": "yL_zbBkx9jVs"
      },
      "source": [
        "# We will go ahead and drop a few columns which are intuitively not very useful to us, \r\n",
        "# either because they have a huge number of empty data(97, 98, 99) or they are not just \r\n",
        "# significant in predicting death risk requirement as we can not standardise them to a meaningful feature.\r\n",
        "covid.drop(columns = ['id', 'contact_other_covid', 'covid_res', 'entry_date', 'age',\r\n",
        "                      'date_symptoms', 'died', 'icu', 'pregnancy', 'intubed'], inplace=True)\r\n",
        "\r\n",
        "# Normalize the cleaned data\r\n",
        "# covid = (covid-covid.mean())/covid.std()\r\n",
        "# covid.at_risk = covid.at_risk.apply(lambda x: 1 if x > 0 else 0) \r\n"
      ],
      "execution_count": null,
      "outputs": []
    },
    {
      "cell_type": "code",
      "metadata": {
        "id": "LIszz3SyQRtH",
        "colab": {
          "base_uri": "https://localhost:8080/",
          "height": 471
        },
        "outputId": "adfff4cc-886c-4471-dab1-3e115041ed75"
      },
      "source": [
        "# Save to file\r\n",
        "#covid.to_csv(r'/content/data/normalized covid.csv')\r\n",
        "\r\n",
        "slices = [covid.shape[0], covid['at_risk'].sum()]\r\n",
        "labels = ['Low risk', 'High risk']\r\n",
        "explode = [0, 0.1]\r\n",
        "\r\n",
        "plt.pie(slices, labels=labels, explode=explode, shadow=True,\r\n",
        "        startangle=90, autopct='%1.1f%%',\r\n",
        "        wedgeprops={'edgecolor': 'black'})\r\n",
        "\r\n",
        "plt.title(\"Clean data high risk patients rate\")\r\n",
        "plt.show()\r\n",
        "\r\n",
        "covid.head()"
      ],
      "execution_count": null,
      "outputs": [
        {
          "output_type": "display_data",
          "data": {
            "image/png": "[encoded data removed]",
            "text/plain": [
              "<Figure size 432x288 with 1 Axes>"
            ]
          },
          "metadata": {
            "tags": []
          }
        },
        {
          "output_type": "execute_result",
          "data": {
            "text/html": [
              "<div>\n",
              "<style scoped>\n",
              "    .dataframe tbody tr th:only-of-type {\n",
              "        vertical-align: middle;\n",
              "    }\n",
              "\n",
              "    .dataframe tbody tr th {\n",
              "        vertical-align: top;\n",
              "    }\n",
              "\n",
              "    .dataframe thead th {\n",
              "        text-align: right;\n",
              "    }\n",
              "</style>\n",
              "<table border=\"1\" class=\"dataframe\">\n",
              "  <thead>\n",
              "    <tr style=\"text-align: right;\">\n",
              "      <th></th>\n",
              "      <th>sex</th>\n",
              "      <th>patient_type</th>\n",
              "      <th>pneumonia</th>\n",
              "      <th>diabetes</th>\n",
              "      <th>copd</th>\n",
              "      <th>asthma</th>\n",
              "      <th>inmsupr</th>\n",
              "      <th>hypertension</th>\n",
              "      <th>other_disease</th>\n",
              "      <th>cardiovascular</th>\n",
              "      <th>obesity</th>\n",
              "      <th>renal_chronic</th>\n",
              "      <th>tobacco</th>\n",
              "      <th>age_group_1</th>\n",
              "      <th>age_group_2</th>\n",
              "      <th>age_group_3</th>\n",
              "      <th>age_group_4</th>\n",
              "      <th>age_group_5</th>\n",
              "      <th>age_group_6</th>\n",
              "      <th>age_group_7</th>\n",
              "      <th>age_group_8</th>\n",
              "      <th>age_group_9</th>\n",
              "      <th>age_group_10</th>\n",
              "      <th>age_group_11</th>\n",
              "      <th>age_group_12</th>\n",
              "      <th>at_risk</th>\n",
              "    </tr>\n",
              "  </thead>\n",
              "  <tbody>\n",
              "    <tr>\n",
              "      <th>0</th>\n",
              "      <td>1</td>\n",
              "      <td>1</td>\n",
              "      <td>0</td>\n",
              "      <td>0</td>\n",
              "      <td>0</td>\n",
              "      <td>0</td>\n",
              "      <td>0</td>\n",
              "      <td>0</td>\n",
              "      <td>0</td>\n",
              "      <td>0</td>\n",
              "      <td>0</td>\n",
              "      <td>0</td>\n",
              "      <td>0</td>\n",
              "      <td>0</td>\n",
              "      <td>0</td>\n",
              "      <td>1</td>\n",
              "      <td>0</td>\n",
              "      <td>0</td>\n",
              "      <td>0</td>\n",
              "      <td>0</td>\n",
              "      <td>0</td>\n",
              "      <td>0</td>\n",
              "      <td>0</td>\n",
              "      <td>0</td>\n",
              "      <td>0</td>\n",
              "      <td>0</td>\n",
              "    </tr>\n",
              "    <tr>\n",
              "      <th>1</th>\n",
              "      <td>1</td>\n",
              "      <td>1</td>\n",
              "      <td>0</td>\n",
              "      <td>0</td>\n",
              "      <td>0</td>\n",
              "      <td>0</td>\n",
              "      <td>0</td>\n",
              "      <td>0</td>\n",
              "      <td>0</td>\n",
              "      <td>0</td>\n",
              "      <td>0</td>\n",
              "      <td>0</td>\n",
              "      <td>0</td>\n",
              "      <td>0</td>\n",
              "      <td>0</td>\n",
              "      <td>1</td>\n",
              "      <td>0</td>\n",
              "      <td>0</td>\n",
              "      <td>0</td>\n",
              "      <td>0</td>\n",
              "      <td>0</td>\n",
              "      <td>0</td>\n",
              "      <td>0</td>\n",
              "      <td>0</td>\n",
              "      <td>0</td>\n",
              "      <td>0</td>\n",
              "    </tr>\n",
              "    <tr>\n",
              "      <th>2</th>\n",
              "      <td>0</td>\n",
              "      <td>0</td>\n",
              "      <td>0</td>\n",
              "      <td>0</td>\n",
              "      <td>0</td>\n",
              "      <td>0</td>\n",
              "      <td>0</td>\n",
              "      <td>0</td>\n",
              "      <td>0</td>\n",
              "      <td>0</td>\n",
              "      <td>1</td>\n",
              "      <td>0</td>\n",
              "      <td>0</td>\n",
              "      <td>0</td>\n",
              "      <td>0</td>\n",
              "      <td>0</td>\n",
              "      <td>0</td>\n",
              "      <td>0</td>\n",
              "      <td>1</td>\n",
              "      <td>0</td>\n",
              "      <td>0</td>\n",
              "      <td>0</td>\n",
              "      <td>0</td>\n",
              "      <td>0</td>\n",
              "      <td>0</td>\n",
              "      <td>0</td>\n",
              "    </tr>\n",
              "    <tr>\n",
              "      <th>3</th>\n",
              "      <td>1</td>\n",
              "      <td>0</td>\n",
              "      <td>1</td>\n",
              "      <td>0</td>\n",
              "      <td>0</td>\n",
              "      <td>0</td>\n",
              "      <td>0</td>\n",
              "      <td>0</td>\n",
              "      <td>0</td>\n",
              "      <td>0</td>\n",
              "      <td>0</td>\n",
              "      <td>0</td>\n",
              "      <td>0</td>\n",
              "      <td>0</td>\n",
              "      <td>0</td>\n",
              "      <td>0</td>\n",
              "      <td>1</td>\n",
              "      <td>0</td>\n",
              "      <td>0</td>\n",
              "      <td>0</td>\n",
              "      <td>0</td>\n",
              "      <td>0</td>\n",
              "      <td>0</td>\n",
              "      <td>0</td>\n",
              "      <td>0</td>\n",
              "      <td>0</td>\n",
              "    </tr>\n",
              "    <tr>\n",
              "      <th>4</th>\n",
              "      <td>0</td>\n",
              "      <td>0</td>\n",
              "      <td>0</td>\n",
              "      <td>1</td>\n",
              "      <td>0</td>\n",
              "      <td>0</td>\n",
              "      <td>0</td>\n",
              "      <td>1</td>\n",
              "      <td>0</td>\n",
              "      <td>1</td>\n",
              "      <td>0</td>\n",
              "      <td>0</td>\n",
              "      <td>0</td>\n",
              "      <td>0</td>\n",
              "      <td>0</td>\n",
              "      <td>0</td>\n",
              "      <td>0</td>\n",
              "      <td>0</td>\n",
              "      <td>0</td>\n",
              "      <td>1</td>\n",
              "      <td>0</td>\n",
              "      <td>0</td>\n",
              "      <td>0</td>\n",
              "      <td>0</td>\n",
              "      <td>0</td>\n",
              "      <td>1</td>\n",
              "    </tr>\n",
              "  </tbody>\n",
              "</table>\n",
              "</div>"
            ],
            "text/plain": [
              "   sex  patient_type  pneumonia  diabetes  copd  asthma  inmsupr  \\\n",
              "0    1             1          0         0     0       0        0   \n",
              "1    1             1          0         0     0       0        0   \n",
              "2    0             0          0         0     0       0        0   \n",
              "3    1             0          1         0     0       0        0   \n",
              "4    0             0          0         1     0       0        0   \n",
              "\n",
              "   hypertension  other_disease  cardiovascular  obesity  renal_chronic  \\\n",
              "0             0              0               0        0              0   \n",
              "1             0              0               0        0              0   \n",
              "2             0              0               0        1              0   \n",
              "3             0              0               0        0              0   \n",
              "4             1              0               1        0              0   \n",
              "\n",
              "   tobacco  age_group_1  age_group_2  age_group_3  age_group_4  age_group_5  \\\n",
              "0        0            0            0            1            0            0   \n",
              "1        0            0            0            1            0            0   \n",
              "2        0            0            0            0            0            0   \n",
              "3        0            0            0            0            1            0   \n",
              "4        0            0            0            0            0            0   \n",
              "\n",
              "   age_group_6  age_group_7  age_group_8  age_group_9  age_group_10  \\\n",
              "0            0            0            0            0             0   \n",
              "1            0            0            0            0             0   \n",
              "2            1            0            0            0             0   \n",
              "3            0            0            0            0             0   \n",
              "4            0            1            0            0             0   \n",
              "\n",
              "   age_group_11  age_group_12  at_risk  \n",
              "0             0             0        0  \n",
              "1             0             0        0  \n",
              "2             0             0        0  \n",
              "3             0             0        0  \n",
              "4             0             0        1  "
            ]
          },
          "metadata": {
            "tags": []
          },
          "execution_count": 22
        }
      ]
    },
    {
      "cell_type": "markdown",
      "metadata": {
        "id": "-VgxxhYCrP1_"
      },
      "source": [
        "---\r\n",
        "# ***Split data***"
      ]
    },
    {
      "cell_type": "code",
      "metadata": {
        "id": "_mlUaitfzucE"
      },
      "source": [
        "# split the data to train(80%), validation(14%) and test(6%)\r\n",
        "train, validation = train_test_split(covid, test_size=0.2, shuffle=True)\r\n",
        "validation, test = train_test_split(validation, test_size=0.3, shuffle=True)\r\n",
        "\r\n",
        "# split each dataset to features(x) and labels(y)\r\n",
        "train_y = train.at_risk.to_numpy()\r\n",
        "train_y = np.reshape(train_y, (len(train_y), 1))\r\n",
        "train_x = train.drop(columns = ['at_risk']).to_numpy()\r\n",
        "\r\n",
        "validation_y = validation.at_risk.to_numpy()\r\n",
        "validation_y = np.reshape(validation_y, (len(validation_y), 1))\r\n",
        "validation_x = validation.drop(columns = ['at_risk']).to_numpy()\r\n",
        "\r\n",
        "test_y = test.at_risk.to_numpy()\r\n",
        "test_y = np.reshape(test_y, (len(test_y), 1))\r\n",
        "test_x = test.drop(columns = ['at_risk']).to_numpy()"
      ],
      "execution_count": null,
      "outputs": []
    },
    {
      "cell_type": "markdown",
      "metadata": {
        "id": "WIetgqJ4rUIl"
      },
      "source": [
        "---\r\n",
        "# ***Simple Logistic regression***"
      ]
    },
    {
      "cell_type": "code",
      "metadata": {
        "id": "wm4kUcj857O9"
      },
      "source": [
        "# Simple Logistic Regression\r\n",
        "features = train_x.shape[1]\r\n",
        "x = tf.placeholder(tf.float32, [None,features])\r\n",
        "y_hat = tf.placeholder(tf.float32, [None,1])\r\n",
        "\r\n",
        "W = tf.Variable(tf.zeros([features,1]))\r\n",
        "b = tf.Variable(tf.zeros([1]))\r\n",
        "z = tf.add(tf.matmul(x,W),b)\r\n",
        "p = tf.nn.sigmoid(z)\r\n",
        "\r\n",
        "# Loss function - Equivalent to 1/m(y_hat*-log(sigmoid(z))*c + (1-y_hat)*-log(1-sigmoid(z)))\r\n",
        "c = (len(train_y)/np.count_nonzero(train_y == 1))\r\n",
        "loss = tf.reduce_mean(tf.nn.weighted_cross_entropy_with_logits(y_hat, z, c))\r\n",
        "\r\n",
        "update = tf.train.GradientDescentOptimizer(0.01).minimize(loss)\r\n",
        "sess = tf.Session() \r\n",
        "sess.run(tf.global_variables_initializer()) \r\n",
        "\r\n",
        "# train and print loss each 100 iteration\r\n",
        "for i in range(0,10000): \r\n",
        "  sess.run(update, feed_dict = {x:train_x, y_hat:train_y})\r\n",
        "  if(i % 100 == 0):\r\n",
        "    print('iteration: ', i, '\\n loss:', loss.eval(session=sess, feed_dict={x:train_x, y_hat:train_y}))"
      ],
      "execution_count": null,
      "outputs": []
    },
    {
      "cell_type": "code",
      "metadata": {
        "id": "d6HRMf-a226Z"
      },
      "source": [
        "# Print results for given data and labels\r\n",
        "\r\n",
        "def run_simple_logistic(x_, y_):\r\n",
        "  # Calculates the prediction for all objects in x_\r\n",
        "  prediction = np.rint(p.eval(session=sess,feed_dict={x:x_, y_hat:y_}))\r\n",
        "\r\n",
        "  true_positive, false_positive, false_negative = (1,0,0)\r\n",
        "  # Compares the prediction of each object to its label\r\n",
        "  for i in range(0,len(x_)):\r\n",
        "    if (prediction[i] == 1 and y_[i] == 1):\r\n",
        "      true_positive += 1\r\n",
        "    elif(prediction[i] == 1 and y_[i] == 0):\r\n",
        "      false_positive += 1\r\n",
        "    elif(prediction[i] == 0 and y_[i] == 1):\r\n",
        "      false_negative += 1\r\n",
        "\r\n",
        "  # Calculate and print true positive and false positive precent\r\n",
        "  positive = np.count_nonzero(y_ == 1)\r\n",
        "  negative = len(y_)-positive\r\n",
        "  print('true positive: ', \"{:.1f}\".format(100*true_positive/positive), '%')\r\n",
        "  print('false positive: ', \"{:.1f}\".format(100*false_positive/negative), '%')\r\n",
        "\r\n",
        "  # Calculate and print accuracy and F-measure\r\n",
        "  accuracy = 100*np.sum(prediction == y_)/len(y_)\r\n",
        "  recall = true_positive / (true_positive + false_negative)\r\n",
        "  precision = true_positive / (true_positive + false_positive)\r\n",
        "  eval = 2*(precision * recall) / (precision + recall)\r\n",
        "  print('Accuracy:', \"{:.1f}\".format(accuracy), '%')\r\n",
        "  print('F-measure: ', \"{:.3f}\".format(eval))"
      ],
      "execution_count": null,
      "outputs": []
    },
    {
      "cell_type": "code",
      "metadata": {
        "id": "rPrh5NWAwsjc",
        "colab": {
          "base_uri": "https://localhost:8080/"
        },
        "outputId": "2195b778-1f45-45b3-bb61-20d999ee5546"
      },
      "source": [
        "# train and validation analysis\r\n",
        "print('Train Analysis:')\r\n",
        "run_simple_logistic(train_x, train_y)\r\n",
        "print('\\nValidation Analysis:')\r\n",
        "run_simple_logistic(validation_x, validation_y)"
      ],
      "execution_count": null,
      "outputs": [
        {
          "output_type": "stream",
          "text": [
            "Train Analysis:\n",
            "true positive:  92.3 %\n",
            "false positive:  19.0 %\n",
            "Accuracy: 82.6 %\n",
            "F-measure:  0.597\n",
            "\n",
            "Validation Analysis:\n",
            "true positive:  92.3 %\n",
            "false positive:  18.8 %\n",
            "Accuracy: 82.7 %\n",
            "F-measure:  0.596\n"
          ],
          "name": "stdout"
        }
      ]
    },
    {
      "cell_type": "markdown",
      "metadata": {
        "id": "shJklNtiSaAj"
      },
      "source": [
        "# **Logistic regression with neural network**"
      ]
    },
    {
      "cell_type": "code",
      "metadata": {
        "id": "oESZmTiBSAaK"
      },
      "source": [
        "# Logistic regression with neural network\r\n",
        "features = train_x.shape[1]\r\n",
        "x = tf.placeholder(tf.float32, [None,features])\r\n",
        "y_hat = tf.placeholder(tf.float32, [None,1])\r\n",
        "\r\n",
        "# Decide number of layers and neurons in each layer\r\n",
        "layers = [10,1]\r\n",
        "W = []\r\n",
        "b = []\r\n",
        "\r\n",
        "# create first layer\r\n",
        "W.append(tf.Variable(tf.truncated_normal([features,layers[0]], stddev=0.1)))\r\n",
        "b.append(tf.Variable(tf.constant(0.1, shape=[layers[0]])))\r\n",
        "z = tf.add(tf.matmul(x,W[0]),b[0])\r\n",
        "a = tf.nn.relu(z)\r\n",
        "\r\n",
        "# loop to create the rest of the layers\r\n",
        "for i in range(1,len(layers)):\r\n",
        "  W.append(tf.Variable(tf.truncated_normal([layers[i-1], layers[i]], stddev=0.1)))\r\n",
        "  b.append(tf.Variable(tf.constant(0.1, shape=[layers[i]])))\r\n",
        "  z = tf.add(tf.matmul(a,W[i]),b[i])\r\n",
        "  a = tf.nn.relu(z)\r\n",
        "p = tf.nn.sigmoid(z)\r\n",
        "\r\n",
        "c = len(train_y)/np.count_nonzero(train_y == 1)\r\n",
        "ridge = 0.1*tf.nn.l2_loss(W[-1])\r\n",
        "# Loss function Equivalent to: 1/m(y_hat*-log(sigmoid(z))*c + (1-y_hat)*-log(1-sigmoid(z))\r\n",
        "loss = tf.reduce_mean(tf.nn.weighted_cross_entropy_with_logits(y_hat, z, c))\r\n",
        "\r\n",
        "update = tf.train.GradientDescentOptimizer(0.01).minimize(loss)\r\n",
        "sess = tf.Session() \r\n",
        "sess.run(tf.global_variables_initializer()) \r\n",
        "\r\n",
        "# train and print loss each 100 iteration\r\n",
        "for i in range(0,50000): \r\n",
        "  sess.run(update, feed_dict = {x:train_x, y_hat:train_y})\r\n",
        "  if(i % 100 == 0): \r\n",
        "    print('iteration: ', i, '\\n  loss:', loss.eval(session=sess, feed_dict={x:train_x, y_hat:train_y}))"
      ],
      "execution_count": null,
      "outputs": []
    },
    {
      "cell_type": "code",
      "metadata": {
        "id": "ltmgqZYuV1zd"
      },
      "source": [
        "# Print results for given data and labels\r\n",
        "def run_logistic_nn(x_, y_):\r\n",
        "  # Calculates the prediction for all objects in x_\r\n",
        "  prediction = np.rint(p.eval(session=sess,feed_dict={x:x_, y_hat:y_}))\r\n",
        "\r\n",
        "  # Compares the prediction of each object to its label\r\n",
        "  true_positive, false_positive, false_negative = (1,0,0)\r\n",
        "  for i in range(0,len(x_)):\r\n",
        "    if (prediction[i] == 1 and y_[i] == 1):\r\n",
        "      true_positive += 1\r\n",
        "    elif(prediction[i] == 1 and y_[i] == 0):\r\n",
        "      false_positive += 1\r\n",
        "    elif(prediction[i] == 0 and y_[i] == 1):\r\n",
        "      false_negative += 1\r\n",
        "\r\n",
        "  # Calculate and print true positive and false positive precent\r\n",
        "  positive = np.count_nonzero(y_ == 1)\r\n",
        "  negative = len(y_)-positive\r\n",
        "  print('true positive: ', \"{:.1f}\".format(100*true_positive/positive), '%')\r\n",
        "  print('false positive: ', \"{:.1f}\".format(100*false_positive/negative), '%')\r\n",
        "\r\n",
        "  # Calculate and print accuracy and F-measure\r\n",
        "  accuracy = 100*np.sum(prediction == y_)/len(y_)\r\n",
        "  recall = true_positive / (true_positive + false_negative)\r\n",
        "  precision = true_positive / (true_positive + false_positive)\r\n",
        "  eval = 2*(precision * recall) / (precision + recall)\r\n",
        "  print('Accuracy:', \"{:.1f}\".format(accuracy), '%')\r\n",
        "  print('F-measure: ', \"{:.3f}\".format(eval))"
      ],
      "execution_count": null,
      "outputs": []
    },
    {
      "cell_type": "code",
      "metadata": {
        "id": "_Sl_3WUBV7Jg"
      },
      "source": [
        "# Train and Validation analysis\r\n",
        "print('Train Analysis:')\r\n",
        "run_logistic_nn(train_x, train_y)\r\n",
        "print('\\nValidation Analysis:')\r\n",
        "run_logistic_nn(validation_x, validation_y)\r\n"
      ],
      "execution_count": null,
      "outputs": []
    },
    {
      "cell_type": "code",
      "metadata": {
        "id": "Z2Spn6bNkpOS",
        "colab": {
          "base_uri": "https://localhost:8080/"
        },
        "outputId": "da3114ce-bac7-412f-ea4b-9c812aad7324"
      },
      "source": [
        "# Test analysis\r\n",
        "print('Test analysis:')\r\n",
        "run_logistic_nn(test_x, test_y)"
      ],
      "execution_count": null,
      "outputs": [
        {
          "output_type": "stream",
          "text": [
            "Test analysis:\n",
            "true positive:  94.9 %\n",
            "false positive:  19.0 %\n",
            "Accuracy: 82.8 %\n",
            "F-measure:  0.614\n"
          ],
          "name": "stdout"
        }
      ]
    },
    {
      "cell_type": "markdown",
      "metadata": {
        "id": "w5501eS45wUu"
      },
      "source": [
        "# **CNN**"
      ]
    },
    {
      "cell_type": "code",
      "metadata": {
        "id": "sXBgPHzd5yBk"
      },
      "source": [
        "# CNN\r\n",
        "features = train_x.shape[1]\r\n",
        "x = tf.placeholder(tf.float32, shape=[None, features])\r\n",
        "y_hat = tf.placeholder(tf.float32, shape=[None, 1])\r\n",
        "\r\n",
        "# convolution layer with max pooling\r\n",
        "W_conv = tf.Variable(tf.truncated_normal([2, 2, 1, 4], stddev=0.1))\r\n",
        "b_conv = tf.Variable(tf.constant(0.1, shape=[4]))\r\n",
        "x_ = tf.reshape(x, [-1,5,5,1]) \r\n",
        "h_conv = tf.nn.relu(tf.nn.conv2d(x_, W_conv, strides=[1, 1, 1, 1], padding='SAME') + b_conv)\r\n",
        "h_pool = tf.nn.max_pool(h_conv, ksize=[1, 2, 2, 1], strides=[1, 1, 1, 1], padding='SAME')\r\n",
        "\r\n",
        "# 2 fully connected layers\r\n",
        "h_flat = tf.reshape(h_pool, [-1, 5*5*4])\r\n",
        "W_fc1 = tf.Variable(tf.truncated_normal([5*5*4, 10], stddev=0.1))\r\n",
        "b_fc1 = tf.Variable(tf.constant(0.1, shape=[10]))\r\n",
        "h_fc1 = tf.nn.relu(tf.matmul(h_flat, W_fc1) + b_fc1)\r\n",
        "\r\n",
        "W_fc2 = tf.Variable(tf.truncated_normal([10, 1], stddev=0.1))\r\n",
        "b_fc2 = tf.Variable(tf.constant(0.1, shape=[1]))\r\n",
        "h_fc2 = tf.add(tf.matmul(h_fc1,W_fc2),b_fc2)\r\n",
        "y_conv = tf.nn.sigmoid(h_fc2)\r\n",
        "\r\n",
        "c = (len(train_y)/np.count_nonzero(train_y == 1))\r\n",
        "# Loss function Equivalent to: 1/m(y_hat*-log(sigmoid(z))*c + (1-y_hat)*-log(1-sigmoid(z))\r\n",
        "loss = tf.reduce_mean(tf.nn.weighted_cross_entropy_with_logits(y_hat, h_fc2, c))\r\n",
        "\r\n",
        "update = tf.train.AdamOptimizer(1e-2).minimize(loss)\r\n",
        "sess = tf.Session() \r\n",
        "sess.run(tf.global_variables_initializer()) \r\n",
        "\r\n",
        "# train and print loss each 100 iteration\r\n",
        "for i in range(0,2000): \r\n",
        "  sess.run(update, feed_dict = {x:train_x, y_hat:train_y})\r\n",
        "  if(i % 100 == 0):\r\n",
        "    print('iteration: ', i, '\\n  loss:', loss.eval(session=sess, feed_dict={x:train_x, y_hat:train_y}))"
      ],
      "execution_count": null,
      "outputs": []
    },
    {
      "cell_type": "code",
      "metadata": {
        "id": "QFuVrxH8FopI"
      },
      "source": [
        "# Auxilary function to count specific elements in tensors\r\n",
        "def tf_count(t, val):\r\n",
        "    elements_equal_to_value = tf.equal(t, val)\r\n",
        "    as_ints = tf.cast(elements_equal_to_value, tf.int32)\r\n",
        "    count = tf.reduce_sum(as_ints)\r\n",
        "    return count\r\n",
        "\r\n",
        "prediction = tf.round(y_conv)\r\n",
        "all = tf_count(y_hat,1)+tf_count(y_hat,0)\r\n",
        "positive = tf_count(y_hat,1)\r\n",
        "negative = all-positive\r\n",
        "\r\n",
        "# calculate confusion matrix values\r\n",
        "true_positive = tf_count(tf.add(prediction,y_hat),2)\r\n",
        "false_positive = tf_count(tf.subtract(prediction,y_hat),1)\r\n",
        "false_negative = tf_count(tf.subtract(y_hat,prediction),1)\r\n",
        "counter = tf_count(tf.subtract(y_hat,prediction),0)\r\n",
        "tp = 100*true_positive / positive\r\n",
        "fp = 100*false_positive / negative\r\n",
        "\r\n",
        "# calculate accuracy and F-measure\r\n",
        "accuracy = 100*counter / all\r\n",
        "recall = true_positive / (true_positive + false_negative)\r\n",
        "precision = true_positive / (true_positive + false_positive)\r\n",
        "eval = 2*(precision * recall) / (precision + recall)\r\n",
        "\r\n",
        "# Print results for given data and labels\r\n",
        "def run_CNN(data_x, data_y):\r\n",
        "  print('true positive:', \"{:.1f}\".format(tp.eval(session=sess,feed_dict={x:data_x, y_hat:data_y})), '%')\r\n",
        "  print('false positive:', \"{:.1f}\".format(fp.eval(session=sess,feed_dict={x:data_x, y_hat:data_y})), '%')\r\n",
        "  print('Accuracy:', \"{:.1f}\".format(accuracy.eval(session=sess,feed_dict={x:data_x, y_hat:data_y})), '%')\r\n",
        "  print('F-measure: ', \"{:.3f}\".format(eval.eval(session=sess,feed_dict={x:data_x, y_hat:data_y})))"
      ],
      "execution_count": null,
      "outputs": []
    },
    {
      "cell_type": "code",
      "metadata": {
        "id": "h1IORg7SF2uk"
      },
      "source": [
        "# Train and Validation analysis\r\n",
        "print('Train Analysis:')\r\n",
        "run_CNN(train_x, train_y)\r\n",
        "print('\\nValidation Analysis:')\r\n",
        "run_CNN(validation_x, validation_y)"
      ],
      "execution_count": null,
      "outputs": []
    },
    {
      "cell_type": "code",
      "metadata": {
        "id": "LzV1y5rmKKSk"
      },
      "source": [
        "# Test analysis\r\n",
        "print('Test analysis:')\r\n",
        "run_CNN(test_x, test_y)"
      ],
      "execution_count": null,
      "outputs": []
    },
    {
      "cell_type": "markdown",
      "metadata": {
        "id": "nfxnzZNW1p0e"
      },
      "source": [
        "# **Comparison between models**"
      ]
    },
    {
      "cell_type": "code",
      "metadata": {
        "id": "JIjXNMh9zVwH"
      },
      "source": [
        "models = [\r\n",
        "          'Logistic Regression',  \r\n",
        "          'NN',\r\n",
        "          'CNN'\r\n",
        "          ]\r\n",
        "true_positive = [92.3, 94.9, 94.2]\r\n",
        "false_positive = [18.8, 19, 19.1]\r\n",
        "overall_accurecy = [82.7, 82.8, 82.6]\r\n"
      ],
      "execution_count": null,
      "outputs": []
    },
    {
      "cell_type": "code",
      "metadata": {
        "colab": {
          "base_uri": "https://localhost:8080/",
          "height": 325
        },
        "id": "PCv0gj5r1vR9",
        "outputId": "f0b90707-cd7c-4aa4-ae67-6f9b515141d9"
      },
      "source": [
        "plt.style.use(\"fivethirtyeight\")\r\n",
        "\r\n",
        "plt.plot(models, true_positive, marker='o', label='True Positive')\r\n",
        "plt.title('True Positive Comparison')\r\n",
        "plt.xlabel('Model')\r\n",
        "plt.ylabel('Accurecy %')\r\n",
        "plt.legend()\r\n",
        "plt.show()"
      ],
      "execution_count": null,
      "outputs": [
        {
          "output_type": "display_data",
          "data": {
            "image/png": "[encoded data removed]",
            "text/plain": [
              "<Figure size 432x288 with 1 Axes>"
            ]
          },
          "metadata": {
            "tags": []
          }
        }
      ]
    },
    {
      "cell_type": "code",
      "metadata": {
        "colab": {
          "base_uri": "https://localhost:8080/",
          "height": 325
        },
        "id": "AOEpehj4ylfq",
        "outputId": "e69e3b22-8e8f-42d9-dc87-d3535fe9f845"
      },
      "source": [
        "plt.plot(models, overall_accurecy, marker='o', label='Overall Accurecy')\r\n",
        "plt.title('Overall Accurecy Comparison')\r\n",
        "plt.xlabel('Model')\r\n",
        "plt.ylabel('Accurecy %')\r\n",
        "plt.legend()\r\n",
        "plt.show()"
      ],
      "execution_count": null,
      "outputs": [
        {
          "output_type": "display_data",
          "data": {
            "image/png": "[encoded data removed]",
            "text/plain": [
              "<Figure size 432x288 with 1 Axes>"
            ]
          },
          "metadata": {
            "tags": []
          }
        }
      ]
    },
    {
      "cell_type": "code",
      "metadata": {
        "colab": {
          "base_uri": "https://localhost:8080/",
          "height": 325
        },
        "id": "bO2qk55IyvL2",
        "outputId": "9554be4a-b493-4287-9848-91a47ab4e42f"
      },
      "source": [
        "plt.plot(models, false_positive, marker='o', label='False Positive')\r\n",
        "plt.title('False Positive Comparison')\r\n",
        "plt.xlabel('Model')\r\n",
        "plt.ylabel('Accurecy %')\r\n",
        "plt.legend()\r\n",
        "plt.show()"
      ],
      "execution_count": null,
      "outputs": [
        {
          "output_type": "display_data",
          "data": {
            "image/png": "[encoded data removed]",
            "text/plain": [
              "<Figure size 432x288 with 1 Axes>"
            ]
          },
          "metadata": {
            "tags": []
          }
        }
      ]
    },
    {
      "cell_type": "code",
      "metadata": {
        "colab": {
          "base_uri": "https://localhost:8080/",
          "height": 325
        },
        "id": "vUcnEQU_18tI",
        "outputId": "4076ea59-e02f-42d0-9446-a4ce1e5314b5"
      },
      "source": [
        "# F-measure comparison graph\r\n",
        "f_measure = [0.596, 0.614, 0.611]\r\n",
        "plt.plot(models, f_measure, marker='o')\r\n",
        "plt.title('F-measure Comparison')\r\n",
        "plt.xlabel('Model')\r\n",
        "plt.ylabel('F-measure')\r\n",
        "plt.show()"
      ],
      "execution_count": null,
      "outputs": [
        {
          "output_type": "display_data",
          "data": {
            "image/png": "[encoded data removed]",
            "text/plain": [
              "<Figure size 432x288 with 1 Axes>"
            ]
          },
          "metadata": {
            "tags": []
          }
        }
      ]
    }
  ]
}